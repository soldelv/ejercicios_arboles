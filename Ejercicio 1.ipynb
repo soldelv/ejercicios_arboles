{
 "cells": [
  {
   "cell_type": "code",
   "execution_count": 4,
   "id": "b06b2542",
   "metadata": {},
   "outputs": [],
   "source": [
    "#A"
   ]
  },
  {
   "cell_type": "code",
   "execution_count": null,
   "id": "c0587f22",
   "metadata": {},
   "outputs": [],
   "source": [
    "def iniciales(nombre, apellido):\n",
    "    iniciales = nombre[0].upper()+''+apellido[0].upper()\n",
    "    \n",
    "    return(iniciales)"
   ]
  },
  {
   "cell_type": "code",
   "execution_count": 2,
   "id": "310b9fe2",
   "metadata": {},
   "outputs": [
    {
     "name": "stdout",
     "output_type": "stream",
     "text": [
      "CR\n"
     ]
    }
   ],
   "source": [
    "print(iniciales('Carlos', 'Rivkin'))"
   ]
  },
  {
   "cell_type": "code",
   "execution_count": 3,
   "id": "3204ed94",
   "metadata": {},
   "outputs": [
    {
     "name": "stdout",
     "output_type": "stream",
     "text": [
      "SD\n"
     ]
    }
   ],
   "source": [
    "print(iniciales('Sol', 'DelValle'))"
   ]
  },
  {
   "cell_type": "code",
   "execution_count": 5,
   "id": "2342d260",
   "metadata": {},
   "outputs": [],
   "source": [
    "#B"
   ]
  },
  {
   "cell_type": "code",
   "execution_count": 6,
   "id": "b1ec8569",
   "metadata": {},
   "outputs": [],
   "source": [
    "def max_numero(array_positivos):\n",
    "    numero_mayor =0\n",
    "    if(len(array_positivos)>0):\n",
    "        for i in array_positivos:\n",
    "            if (i==0):\n",
    "                numero_mayor =i #tomo como referencia de partida el primer elemento de la lista para comparar con los demas\n",
    "            if(i>numero_mayor):\n",
    "                numero_mayor =i\n",
    "\n",
    "    else:\n",
    "        numero_mayor =-1\n",
    "    \n",
    "    return numero_mayor\n",
    "        "
   ]
  },
  {
   "cell_type": "code",
   "execution_count": 8,
   "id": "7fff7783",
   "metadata": {},
   "outputs": [
    {
     "data": {
      "text/plain": [
       "25"
      ]
     },
     "execution_count": 8,
     "metadata": {},
     "output_type": "execute_result"
    }
   ],
   "source": [
    "max_numero([3,25,3,7])"
   ]
  },
  {
   "cell_type": "code",
   "execution_count": null,
   "id": "e29cc07e",
   "metadata": {},
   "outputs": [],
   "source": []
  }
 ],
 "metadata": {
  "kernelspec": {
   "display_name": "Python 3 (ipykernel)",
   "language": "python",
   "name": "python3"
  },
  "language_info": {
   "codemirror_mode": {
    "name": "ipython",
    "version": 3
   },
   "file_extension": ".py",
   "mimetype": "text/x-python",
   "name": "python",
   "nbconvert_exporter": "python",
   "pygments_lexer": "ipython3",
   "version": "3.7.4"
  }
 },
 "nbformat": 4,
 "nbformat_minor": 5
}
