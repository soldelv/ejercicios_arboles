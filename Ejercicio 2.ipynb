{
 "cells": [
  {
   "cell_type": "code",
   "execution_count": 2,
   "id": "7283c5ba",
   "metadata": {},
   "outputs": [],
   "source": [
    "def mensaje_segun_site(site):\n",
    "    \n",
    "    mensaje =''\n",
    "    hispanos =['MLA', 'MLC' ,'MLU', 'MLV', 'MLM' ,'MPE','MBO' ,'MCO','MEC','MSV' ,'MPA', 'MRD' ,'MPY', 'MCU',\n",
    "               'MGT', 'MNI',  'MCR',  'MHN']\n",
    "    brasil = 'MLB'\n",
    "    \n",
    "    if(site==brasil):\n",
    "        mensaje ='Oi, como vai? Para essas consultas, é necessário que nos informem o ID do pagamento. Podem adicionar essa informação, por favor?'\n",
    "    elif (site in hispanos):\n",
    "        mensaje='Hola, ¿cómo estás? Para estas consultas se requiere que se envíe el ID del pago. ¿Nos pueden agregar ese dato por favor?'\n",
    "\n",
    "    else:\n",
    "        mensaje='ATENCION: El site ingresado no se encuentra registrado'\n",
    "    \n",
    "    return mensaje\n",
    "        \n",
    "        "
   ]
  },
  {
   "cell_type": "code",
   "execution_count": 3,
   "id": "a4b78793",
   "metadata": {},
   "outputs": [
    {
     "data": {
      "text/plain": [
       "'Hola, ¿cómo estás? Para estas consultas se requiere que se envíe el ID del pago. ¿Nos pueden agregar ese dato por favor?'"
      ]
     },
     "execution_count": 3,
     "metadata": {},
     "output_type": "execute_result"
    }
   ],
   "source": [
    "mensaje_segun_site('MLM')"
   ]
  },
  {
   "cell_type": "code",
   "execution_count": 4,
   "id": "34fe890d",
   "metadata": {},
   "outputs": [
    {
     "data": {
      "text/plain": [
       "'Hola, ¿cómo estás? Para estas consultas se requiere que se envíe el ID del pago. ¿Nos pueden agregar ese dato por favor?'"
      ]
     },
     "execution_count": 4,
     "metadata": {},
     "output_type": "execute_result"
    }
   ],
   "source": [
    "mensaje_segun_site('MLU')"
   ]
  },
  {
   "cell_type": "code",
   "execution_count": 5,
   "id": "3dec33ca",
   "metadata": {},
   "outputs": [
    {
     "data": {
      "text/plain": [
       "'Oi, como vai? Para essas consultas, é necessário que nos informem o ID do pagamento. Podem adicionar essa informação, por favor?'"
      ]
     },
     "execution_count": 5,
     "metadata": {},
     "output_type": "execute_result"
    }
   ],
   "source": [
    "mensaje_segun_site('MLB')"
   ]
  },
  {
   "cell_type": "code",
   "execution_count": 6,
   "id": "a7d609c7",
   "metadata": {},
   "outputs": [
    {
     "data": {
      "text/plain": [
       "'ATENCION: El site ingresado no se encuentra registrado'"
      ]
     },
     "execution_count": 6,
     "metadata": {},
     "output_type": "execute_result"
    }
   ],
   "source": [
    "mensaje_segun_site('MLY')"
   ]
  },
  {
   "cell_type": "code",
   "execution_count": null,
   "id": "5bff1dc7",
   "metadata": {},
   "outputs": [],
   "source": []
  }
 ],
 "metadata": {
  "kernelspec": {
   "display_name": "Python 3 (ipykernel)",
   "language": "python",
   "name": "python3"
  },
  "language_info": {
   "codemirror_mode": {
    "name": "ipython",
    "version": 3
   },
   "file_extension": ".py",
   "mimetype": "text/x-python",
   "name": "python",
   "nbconvert_exporter": "python",
   "pygments_lexer": "ipython3",
   "version": "3.7.4"
  }
 },
 "nbformat": 4,
 "nbformat_minor": 5
}
